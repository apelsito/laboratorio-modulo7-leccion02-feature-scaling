{
 "cells": [
  {
   "cell_type": "markdown",
   "metadata": {},
   "source": [
    "<div style=\"text-align: center;\">\n",
    "  <img src=\"https://github.com/Hack-io-Data/Imagenes/blob/main/01-LogosHackio/logo_naranja@4x.png?raw=true\" alt=\"esquema\" />\n",
    "</div>\n"
   ]
  },
  {
   "cell_type": "markdown",
   "metadata": {},
   "source": [
    "# Laboratorio de Feature Scaling\n",
    "\n",
    "Continuando con nuestro proyecto en AutoRenew, la empresa de coches de segunda mano, en este laboratorio abordarás una fase crucial del preprocesamiento de datos: el **Feature Scaling**. Este paso es esencial para asegurar que todas las características (variables) de los coches se encuentren en la misma escala antes de entrenar los modelos de Machine Learning. Esto evitará que algunas características dominen sobre otras debido a sus rangos de valores diferentes, mejorando así la precisión del modelo predictivo que estás desarrollando.\n",
    "\n",
    "Tu tarea en este laboratorio es aplicar técnicas de Feature Scaling a las características del conjunto de datos que consideres relevantes. Este paso es fundamental para preparar los datos de manera adecuada para el entrenamiento de modelos de Machine Learning, lo que haremos en los próximos ejercicios.\n",
    "\n",
    "**Columnas del conjunto de datos que podrías escalar:**\n",
    "\n",
    "- **price**: Precio del coche.\n",
    "\n",
    "- **powerCV**: Potencia del coche en caballos de vapor (CV).\n",
    "\n",
    "- **kilometer**: Kilometraje total del coche.\n",
    "\n",
    "- **yearOfRegistration**: Año de registro del coche (aunque es una característica temporal, en algunos casos puede necesitar escalado dependiendo del enfoque del modelo).\n",
    "\n",
    "- **monthOfRegistration**: Mes de registro del coche.\n",
    "\n",
    "**Instrucciones:**\n",
    "\n",
    "1. **Identificación de las características a escalar:** Revisa el conjunto de datos y selecciona las columnas que deberían ser escaladas. Estas generalmente incluyen características numéricas continuas como el precio, la potencia y el kilometraje.\n",
    "\n",
    "2. **Aplicación de técnicas de Feature Scaling**\n",
    "\n",
    "\n",
    "3. **Comparación de resultados:** Después de aplicar el escalado, observa cómo han cambiado las distribuciones de las características. Evalúa cuál de las técnicas de escalado es más apropiada para este conjunto de datos y justifica tu elección.\n",
    "\n",
    "**Nota:** Este laboratorio se construye sobre el análisis exploratorio y la gestión de nulos que realizaste anteriormente. Asegúrate de mantener una buena documentación de tus procesos, ya que utilizaremos estos datos escalados en las próximas etapas de modelado de Machine Learning.\n"
   ]
  },
  {
   "cell_type": "code",
   "execution_count": 2,
   "metadata": {},
   "outputs": [],
   "source": [
    "# Para gestionar el feature scaling\n",
    "# -----------------------------------------------------------------------\n",
    "from sklearn.preprocessing import MinMaxScaler, Normalizer, StandardScaler, RobustScaler\n",
    "\n",
    "# Tratamiento de datos\n",
    "# -----------------------------------------------------------------------\n",
    "import pandas as pd\n",
    "# Tratamiento de datos\n",
    "# -----------------------------------------------------------------------\n",
    "import matplotlib.pyplot as plt\n",
    "import seaborn as sns"
   ]
  },
  {
   "cell_type": "code",
   "execution_count": 5,
   "metadata": {},
   "outputs": [
    {
     "data": {
      "text/html": [
       "<div>\n",
       "<style scoped>\n",
       "    .dataframe tbody tr th:only-of-type {\n",
       "        vertical-align: middle;\n",
       "    }\n",
       "\n",
       "    .dataframe tbody tr th {\n",
       "        vertical-align: top;\n",
       "    }\n",
       "\n",
       "    .dataframe thead th {\n",
       "        text-align: right;\n",
       "    }\n",
       "</style>\n",
       "<table border=\"1\" class=\"dataframe\">\n",
       "  <thead>\n",
       "    <tr style=\"text-align: right;\">\n",
       "      <th></th>\n",
       "      <th>seller</th>\n",
       "      <th>offerType</th>\n",
       "      <th>brand</th>\n",
       "      <th>vehicleType</th>\n",
       "      <th>fuelType</th>\n",
       "      <th>gearbox</th>\n",
       "      <th>notRepairedDamage</th>\n",
       "      <th>kilometer</th>\n",
       "      <th>powerCV</th>\n",
       "      <th>price</th>\n",
       "      <th>yearOfRegistration</th>\n",
       "    </tr>\n",
       "  </thead>\n",
       "  <tbody>\n",
       "    <tr>\n",
       "      <th>0</th>\n",
       "      <td>private</td>\n",
       "      <td>offer</td>\n",
       "      <td>volkswagen</td>\n",
       "      <td>other</td>\n",
       "      <td>petrol</td>\n",
       "      <td>manually</td>\n",
       "      <td>unknown</td>\n",
       "      <td>150000</td>\n",
       "      <td>89.6</td>\n",
       "      <td>480.0</td>\n",
       "      <td>The 90's</td>\n",
       "    </tr>\n",
       "    <tr>\n",
       "      <th>1</th>\n",
       "      <td>private</td>\n",
       "      <td>offer</td>\n",
       "      <td>audi</td>\n",
       "      <td>coupe</td>\n",
       "      <td>diesel</td>\n",
       "      <td>manually</td>\n",
       "      <td>yes</td>\n",
       "      <td>125000</td>\n",
       "      <td>187.0</td>\n",
       "      <td>18300.0</td>\n",
       "      <td>The 2010</td>\n",
       "    </tr>\n",
       "    <tr>\n",
       "      <th>2</th>\n",
       "      <td>private</td>\n",
       "      <td>offer</td>\n",
       "      <td>jeep</td>\n",
       "      <td>suv</td>\n",
       "      <td>diesel</td>\n",
       "      <td>automatic</td>\n",
       "      <td>unknown</td>\n",
       "      <td>125000</td>\n",
       "      <td>161.0</td>\n",
       "      <td>9800.0</td>\n",
       "      <td>The 2000</td>\n",
       "    </tr>\n",
       "    <tr>\n",
       "      <th>3</th>\n",
       "      <td>private</td>\n",
       "      <td>offer</td>\n",
       "      <td>volkswagen</td>\n",
       "      <td>small car</td>\n",
       "      <td>petrol</td>\n",
       "      <td>manually</td>\n",
       "      <td>no</td>\n",
       "      <td>150000</td>\n",
       "      <td>74.0</td>\n",
       "      <td>1500.0</td>\n",
       "      <td>The 2000</td>\n",
       "    </tr>\n",
       "    <tr>\n",
       "      <th>4</th>\n",
       "      <td>private</td>\n",
       "      <td>offer</td>\n",
       "      <td>skoda</td>\n",
       "      <td>small car</td>\n",
       "      <td>diesel</td>\n",
       "      <td>manually</td>\n",
       "      <td>no</td>\n",
       "      <td>90000</td>\n",
       "      <td>68.0</td>\n",
       "      <td>3600.0</td>\n",
       "      <td>The 2000</td>\n",
       "    </tr>\n",
       "  </tbody>\n",
       "</table>\n",
       "</div>"
      ],
      "text/plain": [
       "    seller offerType       brand vehicleType fuelType    gearbox  \\\n",
       "0  private     offer  volkswagen       other   petrol   manually   \n",
       "1  private     offer        audi       coupe   diesel   manually   \n",
       "2  private     offer        jeep         suv   diesel  automatic   \n",
       "3  private     offer  volkswagen   small car   petrol   manually   \n",
       "4  private     offer       skoda   small car   diesel   manually   \n",
       "\n",
       "  notRepairedDamage  kilometer  powerCV    price yearOfRegistration  \n",
       "0           unknown     150000     89.6    480.0           The 90's  \n",
       "1               yes     125000    187.0  18300.0           The 2010  \n",
       "2           unknown     125000    161.0   9800.0           The 2000  \n",
       "3                no     150000     74.0   1500.0           The 2000  \n",
       "4                no      90000     68.0   3600.0           The 2000  "
      ]
     },
     "execution_count": 5,
     "metadata": {},
     "output_type": "execute_result"
    }
   ],
   "source": [
    "df = pd.read_csv(\"datos/autorenew_rellenado.csv\",index_col=0)\n",
    "df[\"kilometer\"] = df[\"kilometer\"]\n",
    "df.head()"
   ]
  },
  {
   "cell_type": "markdown",
   "metadata": {},
   "source": [
    "# Cuales Escalar\n",
    "- **price**: Precio del coche.\n",
    "    - Sobre todo, los valores están muy segregados, en notación científica\n",
    "- **powerCV**: Potencia del coche en caballos de vapor (CV).\n",
    "    - Tenemos gran variedad y están segregados\n"
   ]
  },
  {
   "cell_type": "code",
   "execution_count": 6,
   "metadata": {},
   "outputs": [
    {
     "data": {
      "text/plain": [
       "<Axes: xlabel='powerCV', ylabel='Count'>"
      ]
     },
     "execution_count": 6,
     "metadata": {},
     "output_type": "execute_result"
    },
    {
     "data": {
      "image/png": "[encoded data removed]",
      "text/plain": [
       "<Figure size 640x480 with 1 Axes>"
      ]
     },
     "metadata": {},
     "output_type": "display_data"
    }
   ],
   "source": [
    "sns.histplot(x=\"powerCV\",data=df)"
   ]
  },
  {
   "cell_type": "code",
   "execution_count": 7,
   "metadata": {},
   "outputs": [
    {
     "data": {
      "text/plain": [
       "<Axes: xlabel='price', ylabel='Count'>"
      ]
     },
     "execution_count": 7,
     "metadata": {},
     "output_type": "execute_result"
    },
    {
     "data": {
      "image/png": "[encoded data removed]",
      "text/plain": [
       "<Figure size 640x480 with 1 Axes>"
      ]
     },
     "metadata": {},
     "output_type": "display_data"
    }
   ],
   "source": [
    "sns.histplot(x=\"price\", data = df)"
   ]
  },
  {
   "cell_type": "markdown",
   "metadata": {},
   "source": [
    "# Aplicamos Feature Scaling... Pero ¿Cual?"
   ]
  },
  {
   "cell_type": "code",
   "execution_count": null,
   "metadata": {},
   "outputs": [],
   "source": [
    "escalador_robust = RobustScaler()\n",
    "datos_transf_robust = escalador_robust.fit_transform(df[[\"AdministrativeDuration\", \"ExitRates\"]])\n",
    "df[[\"Admi_dur_robust\", \"Exit_Ratesrobust\"]] = datos_transf_robust\n",
    "\n",
    "\n",
    "escalador_min_max = MinMaxScaler()\n",
    "datos_transf_min_max = escalador_min_max.fit_transform(df[[\"AdministrativeDuration\", \"ExitRates\"]])\n",
    "df[[\"Admi_dur_min_max\", \"Exit_RatesMinMax\"]] = datos_transf_min_max\n",
    "df.describe().T\n",
    "\n",
    "escalador_norm = Normalizer()\n",
    "datos_transf_norm = escalador_norm.fit_transform(df[[\"AdministrativeDuration\", \"ExitRates\"]])\n",
    "df[[\"Admi_dur_norm\", \"Exit_Ratesnorm\"]] = datos_transf_norm\n",
    "\n",
    "escalador_stand = StandardScaler()\n",
    "datos_transf_stand = escalador_stand.fit_transform(df[[\"AdministrativeDuration\", \"ExitRates\"]])\n",
    "df[[\"Admi_dur_stand\", \"Exit_RatesStand\"]] = datos_transf_stand"
   ]
  }
 ],
 "metadata": {
  "kernelspec": {
   "display_name": "Python 3",
   "language": "python",
   "name": "python3"
  },
  "language_info": {
   "codemirror_mode": {
    "name": "ipython",
    "version": 3
   },
   "file_extension": ".py",
   "mimetype": "text/x-python",
   "name": "python",
   "nbconvert_exporter": "python",
   "pygments_lexer": "ipython3",
   "version": "3.11.9"
  }
 },
 "nbformat": 4,
 "nbformat_minor": 2
}
